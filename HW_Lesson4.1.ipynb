{
 "cells": [
  {
   "cell_type": "markdown",
   "id": "21a555e9",
   "metadata": {},
   "source": [
    "## Урок 4. Непрерывная случайная величина\n",
    "\n",
    "### Задача 1\n",
    "\n",
    "Случайная непрерывная величина A имеет равномерное распределение на промежутке (200, 800].  \n",
    "Найдите ее среднее значение и дисперсию.  "
   ]
  },
  {
   "cell_type": "code",
   "execution_count": 25,
   "id": "74acaddf",
   "metadata": {},
   "outputs": [],
   "source": [
    "import math\n",
    "import scipy.stats as st"
   ]
  },
  {
   "cell_type": "code",
   "execution_count": 26,
   "id": "ed4e3b91",
   "metadata": {},
   "outputs": [],
   "source": [
    "result = (200 + 800) / 2"
   ]
  },
  {
   "cell_type": "code",
   "execution_count": 27,
   "id": "a8b5b5a5",
   "metadata": {},
   "outputs": [
    {
     "name": "stdout",
     "output_type": "stream",
     "text": [
      "Среднее значение: 500.0\n"
     ]
    }
   ],
   "source": [
    "print(f\"Среднее значение: {result}\")"
   ]
  },
  {
   "cell_type": "code",
   "execution_count": 28,
   "id": "c8f77121",
   "metadata": {},
   "outputs": [],
   "source": [
    "result = (800 - 200)**2 / 12"
   ]
  },
  {
   "cell_type": "code",
   "execution_count": 29,
   "id": "f0d6914d",
   "metadata": {},
   "outputs": [
    {
     "name": "stdout",
     "output_type": "stream",
     "text": [
      "Дисперсия: 30000.0\n"
     ]
    }
   ],
   "source": [
    "print(f\"Дисперсия: {result}\")"
   ]
  },
  {
   "cell_type": "markdown",
   "id": "01afbec7",
   "metadata": {},
   "source": [
    "### Задача 2\n",
    "\n",
    "О случайной непрерывной равномерно распределенной величине B известно, что ее дисперсия равна 0.2.  \n",
    "Можно ли найти правую границу величины B и ее среднее значение зная, что левая граница равна 0.5? Если да, найдите ее.  "
   ]
  },
  {
   "cell_type": "code",
   "execution_count": 30,
   "id": "b1de7860",
   "metadata": {},
   "outputs": [],
   "source": [
    "d = 0.2\n",
    "a = 0.5\n",
    "\n",
    "result1 = a + math.sqrt(d * 12)"
   ]
  },
  {
   "cell_type": "code",
   "execution_count": 31,
   "id": "68cbc46a",
   "metadata": {},
   "outputs": [
    {
     "name": "stdout",
     "output_type": "stream",
     "text": [
      "Дисперсия: 2.049193338482967\n"
     ]
    }
   ],
   "source": [
    "print(f\"Дисперсия: {result1}\")"
   ]
  },
  {
   "cell_type": "code",
   "execution_count": 32,
   "id": "41eed9b9",
   "metadata": {},
   "outputs": [],
   "source": [
    "result2 = (a + result1) / 2"
   ]
  },
  {
   "cell_type": "code",
   "execution_count": 33,
   "id": "220c889f",
   "metadata": {},
   "outputs": [
    {
     "name": "stdout",
     "output_type": "stream",
     "text": [
      "Дисперсия: 1.2745966692414834\n"
     ]
    }
   ],
   "source": [
    "print(f\"Дисперсия: {result2}\")"
   ]
  },
  {
   "cell_type": "markdown",
   "id": "a1ca5624",
   "metadata": {},
   "source": [
    "### Задача 3\n",
    "\n",
    "Непрерывная случайная величина X распределена нормально и задана плотностью распределения  \n",
    "f(x) = (1 / (4 * sqrt(2pi))) * exp((-(x+2)**2) / 32)  \n",
    "Найдите:  \n",
    "а) M(X)  \n",
    "б) D(X)  \n",
    "в) std(X) (среднее квадратичное отклонение)  "
   ]
  },
  {
   "cell_type": "code",
   "execution_count": 34,
   "id": "d24f3e5c",
   "metadata": {},
   "outputs": [],
   "source": [
    "# а). M(X) = a, если плотность распределения f(x) = (1 / (4 * sqrt(2*pi))) * (exp(-((x+2)**2) / 32)), тогда\n",
    "M_X = -2\n",
    "# б). D(X) = sigma**2\n",
    "D_X = 16\n",
    "# в). std(X) (среднее квадратичное отклонение) = sigma\n",
    "std_X = 4"
   ]
  },
  {
   "cell_type": "markdown",
   "id": "70950c2c",
   "metadata": {},
   "source": [
    "### Задача 4\n",
    "\n",
    "Рост взрослого населения города X имеет нормальное распределение.  \n",
    "Причем, средний рост равен 174 см, а среднее квадратичное отклонение равно 8 см.  \n",
    "Какова вероятность того, что случайным образом выбранный взрослый человек имеет рост:  \n",
    "а) больше 182 см  \n",
    "б) больше 190 см  \n",
    "в) от 166 см до 190 см  \n",
    "г) от 166 см до 182 см  \n",
    "д) от 158 см до 190 см  \n",
    "е) не выше 150 см или не ниже 190 см  \n",
    "ж) не выше 150 см или не ниже 198 см  \n",
    "з) ниже 166 см.  "
   ]
  },
  {
   "cell_type": "code",
   "execution_count": 40,
   "id": "6435908c",
   "metadata": {},
   "outputs": [],
   "source": [
    "hight = st.norm(loc=174, scale=8)\n",
    "result1 = 1 - hight.cdf(182)\n",
    "result2 = 1 - hight.cdf(190)\n",
    "result3 = hight.cdf(190)-hight.cdf(166)\n",
    "result4 = hight.cdf(182)-hight.cdf(166)\n",
    "result5 = hight.cdf(190)-hight.cdf(158)\n",
    "result6 = hight.cdf(150) + (1 - hight.cdf(190))\n",
    "result7 = hight.cdf(150) + (1 - hight.cdf(198))\n",
    "result8 = hight.cdf(166)"
   ]
  },
  {
   "cell_type": "code",
   "execution_count": 41,
   "id": "9b80afe5",
   "metadata": {},
   "outputs": [
    {
     "name": "stdout",
     "output_type": "stream",
     "text": [
      "а) больше 182 см: 0.15865525393145707\n",
      "б) больше 190 см: 0.02275013194817921\n",
      "в) от 166 см до 190 см: 0.8185946141203637\n",
      "г) от 166 см до 182 см: 0.6826894921370859\n",
      "д) от 158 см до 190 см: 0.9544997361036416\n",
      "е) не выше 150 см или не ниже 190 см: 0.0241000299798093\n",
      "ж) не выше 150 см или не ниже 198 см: 0.0026997960632601965\n",
      "з) ниже 166 см: 0.15865525393145707\n"
     ]
    }
   ],
   "source": [
    "print(f\"а) больше 182 см: {result1}\")\n",
    "print(f\"б) больше 190 см: {result2}\")\n",
    "print(f\"в) от 166 см до 190 см: {result3}\")\n",
    "print(f\"г) от 166 см до 182 см: {result4}\")\n",
    "print(f\"д) от 158 см до 190 см: {result5}\")\n",
    "print(f\"е) не выше 150 см или не ниже 190 см: {result6}\")\n",
    "print(f\"ж) не выше 150 см или не ниже 198 см: {result7}\")\n",
    "print(f\"з) ниже 166 см: {result8}\")"
   ]
  },
  {
   "cell_type": "markdown",
   "id": "0a9bd642",
   "metadata": {},
   "source": [
    "### Задача 5\n",
    "\n",
    "На сколько сигм (средних квадратичных отклонений) отклоняется рост человека, равный 190 см,  \n",
    "от математического ожидания роста в популяции, в которой M(X) = 178 см и D(X) = 25 кв.см?  "
   ]
  },
  {
   "cell_type": "code",
   "execution_count": 42,
   "id": "557e6459",
   "metadata": {},
   "outputs": [],
   "source": [
    "result = (190 - 178) / math.sqrt(25)"
   ]
  },
  {
   "cell_type": "code",
   "execution_count": 43,
   "id": "834dd8a1",
   "metadata": {},
   "outputs": [
    {
     "name": "stdout",
     "output_type": "stream",
     "text": [
      "Ответ: 2.4\n"
     ]
    }
   ],
   "source": [
    "print(f\"Ответ: {result}\")"
   ]
  }
 ],
 "metadata": {
  "kernelspec": {
   "display_name": "Python 3",
   "language": "python",
   "name": "python3"
  },
  "language_info": {
   "codemirror_mode": {
    "name": "ipython",
    "version": 3
   },
   "file_extension": ".py",
   "mimetype": "text/x-python",
   "name": "python",
   "nbconvert_exporter": "python",
   "pygments_lexer": "ipython3",
   "version": "3.11.0 (main, Oct 24 2022, 18:26:48) [MSC v.1933 64 bit (AMD64)]"
  },
  "vscode": {
   "interpreter": {
    "hash": "54c843019337f05979ffbb2eaecfdb77b7df86622fb79d5871bba6457374c4df"
   }
  }
 },
 "nbformat": 4,
 "nbformat_minor": 5
}
