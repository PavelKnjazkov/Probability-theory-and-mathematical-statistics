{
 "cells": [
  {
   "cell_type": "markdown",
   "id": "21a555e9",
   "metadata": {},
   "source": [
    "## Урок 1. Расчет вероятности случайных событий\n",
    "\n",
    "### Задача 1\n",
    "\n",
    "Из колоды в 52 карты извлекаются случайным образом 4 карты:  \n",
    "a) Найти вероятность того, что все карты – крести.  \n",
    "б) Найти вероятность, что среди 4-х карт окажется хотя бы один туз.  "
   ]
  },
  {
   "cell_type": "code",
   "execution_count": 2,
   "id": "e28626ee",
   "metadata": {},
   "outputs": [],
   "source": [
    "from math import factorial"
   ]
  },
  {
   "cell_type": "code",
   "execution_count": 3,
   "id": "e7bc525a",
   "metadata": {},
   "outputs": [],
   "source": [
    "def combinations(n, k):\n",
    "    return int(factorial(n) / (factorial(k) * factorial(n - k)))"
   ]
  },
  {
   "cell_type": "code",
   "execution_count": 4,
   "id": "f6dfc9fe",
   "metadata": {},
   "outputs": [],
   "source": [
    "result = combinations(13, 4) / combinations(52, 4)"
   ]
  },
  {
   "cell_type": "code",
   "execution_count": 5,
   "id": "daf01b19",
   "metadata": {},
   "outputs": [
    {
     "name": "stdout",
     "output_type": "stream",
     "text": [
      "Найти вероятность того, что все карты – крести\n",
      "Ответ: 0.0026410564225690276\n"
     ]
    }
   ],
   "source": [
    "print(\"Найти вероятность того, что все карты – крести\")\n",
    "print(f\"Ответ: {result}\")"
   ]
  },
  {
   "cell_type": "code",
   "execution_count": 6,
   "id": "8d0c906d",
   "metadata": {},
   "outputs": [],
   "source": [
    "result = 1 - combinations(48,4) / combinations(52,4)"
   ]
  },
  {
   "cell_type": "code",
   "execution_count": 7,
   "id": "cf74342f",
   "metadata": {},
   "outputs": [
    {
     "name": "stdout",
     "output_type": "stream",
     "text": [
      "Найти вероятность, что среди 4-х карт окажется хотя бы один туз\n",
      "Ответ: 0.2812632745405854\n"
     ]
    }
   ],
   "source": [
    "print(\"Найти вероятность, что среди 4-х карт окажется хотя бы один туз\")\n",
    "print(f\"Ответ: {result}\")"
   ]
  },
  {
   "cell_type": "markdown",
   "id": "01afbec7",
   "metadata": {},
   "source": [
    "### Задача 2\n",
    "\n",
    "На входной двери подъезда установлен кодовый замок, содержащий десять кнопок с цифрами от 0 до 9.  \n",
    "Код содержит три цифры, которые нужно нажать одновременно.  \n",
    "Какова вероятность того, что человек, не знающий код, откроет дверь с первой попытки?  "
   ]
  },
  {
   "cell_type": "code",
   "execution_count": 8,
   "id": "84c6696f",
   "metadata": {},
   "outputs": [],
   "source": [
    "def arrangements(n, k):\n",
    "    return int(factorial(n) / factorial(n - k))"
   ]
  },
  {
   "cell_type": "code",
   "execution_count": 9,
   "id": "12e77191",
   "metadata": {},
   "outputs": [],
   "source": [
    "result = arrangements(3, 3) / arrangements(10, 3)"
   ]
  },
  {
   "cell_type": "code",
   "execution_count": 10,
   "id": "beb1948a",
   "metadata": {},
   "outputs": [
    {
     "name": "stdout",
     "output_type": "stream",
     "text": [
      "Ответ: 0.008333333333333333\n"
     ]
    }
   ],
   "source": [
    "print(f\"Ответ: {result}\")"
   ]
  },
  {
   "cell_type": "markdown",
   "id": "a1ca5624",
   "metadata": {},
   "source": [
    "### Задача 3\n",
    "\n",
    "В ящике имеется 15 деталей, из которых 9 окрашены. Рабочий случайным образом извлекает 3 детали. Какова вероятность того, что все извлеченные детали окрашены?"
   ]
  },
  {
   "cell_type": "code",
   "execution_count": 11,
   "id": "15c95c43",
   "metadata": {},
   "outputs": [],
   "source": [
    "result = combinations(9, 3) / combinations(15, 3)"
   ]
  },
  {
   "cell_type": "code",
   "execution_count": 12,
   "id": "4ea9981f",
   "metadata": {},
   "outputs": [
    {
     "name": "stdout",
     "output_type": "stream",
     "text": [
      "Ответ: 0.18461538461538463\n"
     ]
    }
   ],
   "source": [
    "print(f\"Ответ: {result}\")"
   ]
  },
  {
   "cell_type": "markdown",
   "id": "70950c2c",
   "metadata": {},
   "source": [
    "### Задача 4\n",
    "\n",
    "В лотерее 100 билетов. Из них 2 выигрышных. Какова вероятность того, что 2 приобретенных билета окажутся выигрышными?"
   ]
  },
  {
   "cell_type": "code",
   "execution_count": 13,
   "id": "198b865c",
   "metadata": {},
   "outputs": [],
   "source": [
    "result = 1 / combinations(100, 2)"
   ]
  },
  {
   "cell_type": "code",
   "execution_count": 14,
   "id": "77291c14",
   "metadata": {},
   "outputs": [
    {
     "name": "stdout",
     "output_type": "stream",
     "text": [
      "Ответ: 0.00020202020202020202\n"
     ]
    }
   ],
   "source": [
    "print(f\"Ответ: {result}\")"
   ]
  }
 ],
 "metadata": {
  "kernelspec": {
   "display_name": "Python 3 (ipykernel)",
   "language": "python",
   "name": "python3"
  },
  "language_info": {
   "codemirror_mode": {
    "name": "ipython",
    "version": 3
   },
   "file_extension": ".py",
   "mimetype": "text/x-python",
   "name": "python",
   "nbconvert_exporter": "python",
   "pygments_lexer": "ipython3",
   "version": "3.9.13"
  }
 },
 "nbformat": 4,
 "nbformat_minor": 5
}
