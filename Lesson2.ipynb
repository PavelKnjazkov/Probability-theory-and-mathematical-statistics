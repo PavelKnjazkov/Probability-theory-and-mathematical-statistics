{
 "cells": [
  {
   "cell_type": "markdown",
   "id": "21a555e9",
   "metadata": {},
   "source": [
    "## Урок 2. Дискретные распределения вероятностей\n",
    "\n",
    "### Задача 1\n",
    "\n",
    "Вероятность того, что стрелок попадет в мишень, выстрелив один раз, равна 0.8.  \n",
    "Стрелок выстрелил 100 раз. Найдите вероятность того, что стрелок попадет в цель ровно 85 раз.  "
   ]
  },
  {
   "cell_type": "code",
   "execution_count": 42,
   "id": "ed4e3b91",
   "metadata": {},
   "outputs": [],
   "source": [
    "from math import factorial\n",
    "from math import exp"
   ]
  },
  {
   "cell_type": "code",
   "execution_count": 43,
   "id": "a8b5b5a5",
   "metadata": {},
   "outputs": [],
   "source": [
    "def combinations(n, k):\n",
    "    return int(factorial(n) / (factorial(k) * factorial(n - k)))"
   ]
  },
  {
   "cell_type": "code",
   "execution_count": 44,
   "id": "c8f77121",
   "metadata": {},
   "outputs": [],
   "source": [
    "n = 100\n",
    "p = 0.8\n",
    "k = 85\n",
    "q = 1 - pb\n",
    "result = combinations(n, k) * (p ** k) * (q ** (n-k)) "
   ]
  },
  {
   "cell_type": "code",
   "execution_count": 45,
   "id": "1e920907",
   "metadata": {},
   "outputs": [
    {
     "name": "stdout",
     "output_type": "stream",
     "text": [
      "Найдите вероятность того, что стрелок попадет в цель ровно 85 раз\n",
      "Ответ: 0.048061793700746355\n"
     ]
    }
   ],
   "source": [
    "print(\"Найдите вероятность того, что стрелок попадет в цель ровно 85 раз\")\n",
    "print(f\"Ответ: {result}\")"
   ]
  },
  {
   "cell_type": "markdown",
   "id": "01afbec7",
   "metadata": {},
   "source": [
    "### Задача 2\n",
    "\n",
    "Вероятность того, что лампочка перегорит в течение первого дня эксплуатации, равна 0.0004.  \n",
    "В жилом комплексе после ремонта в один день включили 5000 новых лампочек.  \n",
    "Какова вероятность, что ни одна из них не перегорит в первый день? Какова вероятность, что перегорят ровно две?"
   ]
  },
  {
   "cell_type": "code",
   "execution_count": 46,
   "id": "b1de7860",
   "metadata": {},
   "outputs": [],
   "source": [
    "m = 0\n",
    "p = 0.0004\n",
    "n = 5000\n",
    "lamb = p * n\n",
    "result = ((lamb ** m) / factorial(m)) * exp(-lamb)"
   ]
  },
  {
   "cell_type": "code",
   "execution_count": 47,
   "id": "75e0b333",
   "metadata": {},
   "outputs": [
    {
     "name": "stdout",
     "output_type": "stream",
     "text": [
      "Какова вероятность, что ни одна из них не перегорит в первый день?\n",
      "Ответ: 0.1353352832366127\n"
     ]
    }
   ],
   "source": [
    "print(\"Какова вероятность, что ни одна из них не перегорит в первый день?\")\n",
    "print(f\"Ответ: {result}\")"
   ]
  },
  {
   "cell_type": "code",
   "execution_count": 48,
   "id": "f0bb6dc2",
   "metadata": {},
   "outputs": [],
   "source": [
    "m=2\n",
    "result = ((lamb**m) / factorial(m)) * exp(-lamb) "
   ]
  },
  {
   "cell_type": "code",
   "execution_count": 49,
   "id": "68cbc46a",
   "metadata": {},
   "outputs": [
    {
     "name": "stdout",
     "output_type": "stream",
     "text": [
      "Какова вероятность, что перегорят ровно две?\n",
      "Ответ: 0.2706705664732254\n"
     ]
    }
   ],
   "source": [
    "print(\"Какова вероятность, что перегорят ровно две?\")\n",
    "print(f\"Ответ: {result}\")"
   ]
  },
  {
   "cell_type": "markdown",
   "id": "a1ca5624",
   "metadata": {},
   "source": [
    "### Задача 3\n",
    "\n",
    "Монету подбросили 144 раза. Какова вероятность, что орел выпадет ровно 70 раз?"
   ]
  },
  {
   "cell_type": "code",
   "execution_count": 50,
   "id": "3c0f18d7",
   "metadata": {},
   "outputs": [],
   "source": [
    "n = 144\n",
    "p = 0.5\n",
    "k = 70\n",
    "q = 1 - p\n",
    "result = combinations(n, k) * (p ** k) * (q ** (n-k)) "
   ]
  },
  {
   "cell_type": "code",
   "execution_count": 51,
   "id": "d43ee013",
   "metadata": {},
   "outputs": [
    {
     "name": "stdout",
     "output_type": "stream",
     "text": [
      "Какова вероятность, что орел выпадет ровно 70 раз?\n",
      "Ответ: 0.06281178035144776\n"
     ]
    }
   ],
   "source": [
    "print(\"Какова вероятность, что орел выпадет ровно 70 раз?\")\n",
    "print(f\"Ответ: {result}\")"
   ]
  },
  {
   "cell_type": "markdown",
   "id": "70950c2c",
   "metadata": {},
   "source": [
    "### Задача 4\n",
    "\n",
    "В первом ящике находится 10 мячей, из которых 7 - белые.  \n",
    "Во втором ящике - 11 мячей, из которых 9 белых.  \n",
    "\n",
    "Из каждого ящика вытаскивают случайным образом по два мяча.  \n",
    "Какова вероятность того, что все мячи белые?  \n",
    "Какова вероятность того, что ровно два мяча белые?  \n",
    "Какова вероятность того, что хотя бы один мяч белый?  "
   ]
  },
  {
   "cell_type": "code",
   "execution_count": 52,
   "id": "6435908c",
   "metadata": {},
   "outputs": [],
   "source": [
    "p1 = combinations(7, 2) / combinations(10, 2)\n",
    "p2 = combinations(9, 2) / combinations(11, 2)\n",
    "result = p1 * p2"
   ]
  },
  {
   "cell_type": "code",
   "execution_count": 53,
   "id": "de336a90",
   "metadata": {},
   "outputs": [
    {
     "name": "stdout",
     "output_type": "stream",
     "text": [
      "Какова вероятность того, что все мячи белые?\n",
      "Ответ: 0.3054545454545455\n"
     ]
    }
   ],
   "source": [
    "print(\"Какова вероятность того, что все мячи белые?\")\n",
    "print(f\"Ответ: {result}\")"
   ]
  },
  {
   "cell_type": "code",
   "execution_count": 54,
   "id": "71bece76",
   "metadata": {},
   "outputs": [],
   "source": [
    "p1 = (combinations(7, 2) / combinations(10, 2)) * (combinations(2, 2) / combinations(11, 2))\n",
    "p2 = (combinations(7, 1) * combinations(3, 1) / combinations(10, 2)) * (combinations(9, 1) * combinations(2, 1) / combinations(11, 2))\n",
    "p3 = (combinations(3, 2) / combinations(10, 2)) * (combinations(9, 2) / combinations(11, 2))\n",
    "result = p1 + p2 + p3"
   ]
  },
  {
   "cell_type": "code",
   "execution_count": 55,
   "id": "6f237334",
   "metadata": {},
   "outputs": [
    {
     "name": "stdout",
     "output_type": "stream",
     "text": [
      "Какова вероятность того, что ровно два мяча белые?\n",
      "Ответ: 0.20484848484848486\n"
     ]
    }
   ],
   "source": [
    "print(\"Какова вероятность того, что ровно два мяча белые?\")\n",
    "print(f\"Ответ: {result}\")"
   ]
  },
  {
   "cell_type": "code",
   "execution_count": 56,
   "id": "bfd7b97e",
   "metadata": {},
   "outputs": [],
   "source": [
    "p1=combinations(3, 2)/combinations(10, 2)\n",
    "p2=combinations(2, 2)/combinations(11, 2)\n",
    "result = 1 - (p1 * p2)"
   ]
  },
  {
   "cell_type": "code",
   "execution_count": 57,
   "id": "9b80afe5",
   "metadata": {},
   "outputs": [
    {
     "name": "stdout",
     "output_type": "stream",
     "text": [
      "Какова вероятность того, что хотя бы один мяч белый?\n",
      "Ответ: 0.9987878787878788\n"
     ]
    }
   ],
   "source": [
    "print(\"Какова вероятность того, что хотя бы один мяч белый?\")\n",
    "print(f\"Ответ: {result}\")"
   ]
  }
 ],
 "metadata": {
  "kernelspec": {
   "display_name": "Python 3 (ipykernel)",
   "language": "python",
   "name": "python3"
  },
  "language_info": {
   "codemirror_mode": {
    "name": "ipython",
    "version": 3
   },
   "file_extension": ".py",
   "mimetype": "text/x-python",
   "name": "python",
   "nbconvert_exporter": "python",
   "pygments_lexer": "ipython3",
   "version": "3.9.13"
  }
 },
 "nbformat": 4,
 "nbformat_minor": 5
}
