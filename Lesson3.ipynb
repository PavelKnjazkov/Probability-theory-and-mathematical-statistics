{
 "cells": [
  {
   "cell_type": "markdown",
   "id": "21a555e9",
   "metadata": {},
   "source": [
    "## Урок 3. EDA (exploratory data analysis) или Разведочный анализ\n",
    "\n",
    "### Задача 1\n",
    "\n",
    "Даны значения зарплат из выборки выпускников: 100, 80, 75, 77, 89, 33, 45, 25, 65, 17, 30, 24, 57, 55, 70, 75, 65, 84, 90, 150.  \n",
    "Посчитать (желательно без использования статистических методов наподобие std, var, mean)  \n",
    "среднее арифметическое, среднее квадратичное отклонение, смещенную и несмещенную оценки дисперсий для данной выборки."
   ]
  },
  {
   "cell_type": "code",
   "execution_count": 22,
   "id": "ed4e3b91",
   "metadata": {},
   "outputs": [],
   "source": [
    "from math import factorial"
   ]
  },
  {
   "cell_type": "code",
   "execution_count": 23,
   "id": "a8b5b5a5",
   "metadata": {},
   "outputs": [],
   "source": [
    "def combinations(n, k):\n",
    "    return int(factorial(n) / (factorial(k) * factorial(n - k)))"
   ]
  },
  {
   "cell_type": "code",
   "execution_count": 24,
   "id": "a0d68d53",
   "metadata": {},
   "outputs": [],
   "source": [
    "salary = [100, 80, 75, 77, 89, 33, 45, 25, 65, 17, 30, 24, 57, 55, 70, 75, 65, 84, 90, 150]\n",
    "m = sum(salary)/len(salary)"
   ]
  },
  {
   "cell_type": "code",
   "execution_count": 25,
   "id": "c8f77121",
   "metadata": {},
   "outputs": [
    {
     "name": "stdout",
     "output_type": "stream",
     "text": [
      "среднее арифметическое: 65.3\n"
     ]
    }
   ],
   "source": [
    "print(f\"среднее арифметическое: {m}\")"
   ]
  },
  {
   "cell_type": "code",
   "execution_count": 26,
   "id": "bc57340a",
   "metadata": {},
   "outputs": [],
   "source": [
    "ds = 0\n",
    "for i in salary:\n",
    "  ds += (i - m) ** 2\n",
    "ds1 = ds / len(salary)"
   ]
  },
  {
   "cell_type": "code",
   "execution_count": 27,
   "id": "e211e96c",
   "metadata": {},
   "outputs": [
    {
     "name": "stdout",
     "output_type": "stream",
     "text": [
      "смещенная оценки дисперсий: 950.11\n"
     ]
    }
   ],
   "source": [
    "print(f\"смещенная оценки дисперсий: {ds1}\")"
   ]
  },
  {
   "cell_type": "code",
   "execution_count": 28,
   "id": "7cdd3115",
   "metadata": {},
   "outputs": [],
   "source": [
    "ds = 0\n",
    "for i in salary:\n",
    "  ds += (i - m) ** 2\n",
    "result = ds / (len(salary) - 1)"
   ]
  },
  {
   "cell_type": "code",
   "execution_count": 29,
   "id": "524af19a",
   "metadata": {},
   "outputs": [
    {
     "name": "stdout",
     "output_type": "stream",
     "text": [
      "несмещенная оценки дисперсий: 1000.1157894736842\n"
     ]
    }
   ],
   "source": [
    "print(f\"несмещенная оценки дисперсий: {result}\")"
   ]
  },
  {
   "cell_type": "code",
   "execution_count": 30,
   "id": "4996ced6",
   "metadata": {},
   "outputs": [],
   "source": [
    "result = ds1 ** 0.5"
   ]
  },
  {
   "cell_type": "code",
   "execution_count": 21,
   "id": "fb2ad02a",
   "metadata": {},
   "outputs": [
    {
     "name": "stdout",
     "output_type": "stream",
     "text": [
      "среднее квадратичное отклонение: 30.823854398825596\n"
     ]
    }
   ],
   "source": [
    "print(f\"среднее квадратичное отклонение: {result}\")"
   ]
  },
  {
   "cell_type": "markdown",
   "id": "01afbec7",
   "metadata": {},
   "source": [
    "### Задача 2\n",
    "\n",
    "В первом ящике находится 8 мячей, из которых 5 - белые. Во втором ящике - 12 мячей, из которых 5 белых.  \n",
    "Из первого ящика вытаскивают случайным образом два мяча, из второго - 4.  \n",
    "Какова вероятность того, что 3 мяча белые?  "
   ]
  },
  {
   "cell_type": "code",
   "execution_count": 31,
   "id": "b1de7860",
   "metadata": {},
   "outputs": [],
   "source": [
    "p1 = combinations(5, 2) / combinations(8, 2) * combinations(5, 1) * combinations(7, 3) / combinations(12, 4)\n",
    "p2 = combinations(5, 1) * combinations(3, 1) / combinations(8, 2) * combinations(5, 2) * combinations(7, 2) / combinations(12, 4)\n",
    "p3 = combinations(3, 2) / combinations(8, 2) * combinations(5, 3) * combinations(7, 1) / combinations(12, 4)\n",
    "result = p1 + p2 + p3"
   ]
  },
  {
   "cell_type": "code",
   "execution_count": 33,
   "id": "68cbc46a",
   "metadata": {},
   "outputs": [
    {
     "name": "stdout",
     "output_type": "stream",
     "text": [
      "Какова вероятность того, что 3 мяча белые?\n",
      "Ответ: 0.3686868686868686\n"
     ]
    }
   ],
   "source": [
    "print(\"Какова вероятность того, что 3 мяча белые?\")\n",
    "print(f\"Ответ: {result}\")"
   ]
  },
  {
   "cell_type": "markdown",
   "id": "a1ca5624",
   "metadata": {},
   "source": [
    "### Задача 3\n",
    "\n",
    "На соревновании по биатлону один из трех спортсменов стреляет и попадает в мишень.  \n",
    "Вероятность попадания для первого спортсмена равна 0.9, для второго — 0.8, для третьего — 0.6.  \n",
    "Найти вероятность того, что выстрел произведен:  \n",
    "a) первым спортсменом  \n",
    "б) вторым спортсменом  \n",
    "в) третьим спортсменом  "
   ]
  },
  {
   "cell_type": "code",
   "execution_count": 35,
   "id": "d24f3e5c",
   "metadata": {},
   "outputs": [],
   "source": [
    "p = 1/3 * 0.9 + 1/3 * 0.8 + 1/3 * 0.6\n",
    "\n",
    "result1 = 1/3 * 0.9 / p\n",
    "result2 = 1/3 * 0.8 / p\n",
    "result3 = 1/3 * 0.6 / p"
   ]
  },
  {
   "cell_type": "code",
   "execution_count": 36,
   "id": "d43ee013",
   "metadata": {},
   "outputs": [
    {
     "name": "stdout",
     "output_type": "stream",
     "text": [
      "первым спортсменом: 0.391304347826087\n",
      "вторым спортсменом: 0.3478260869565218\n",
      "третьим спортсменом: 0.2608695652173913\n"
     ]
    }
   ],
   "source": [
    "print(f\"первым спортсменом: {result1}\")\n",
    "print(f\"вторым спортсменом: {result2}\")\n",
    "print(f\"третьим спортсменом: {result3}\")"
   ]
  },
  {
   "cell_type": "markdown",
   "id": "70950c2c",
   "metadata": {},
   "source": [
    "### Задача 4\n",
    "\n",
    "В университет на факультеты A и B поступило равное количество студентов,  \n",
    "а на факультет C студентов поступило столько же, сколько на A и B вместе.  \n",
    "Вероятность того, что студент факультета A сдаст первую сессию, равна 0.8.  \n",
    "Для студента факультета B эта вероятность равна 0.7, а для студента факультета C - 0.9.  \n",
    "Студент сдал первую сессию. Какова вероятность, что он учится:  \n",
    "a). на факультете A  \n",
    "б). на факультете B  \n",
    "в). на факультете C? "
   ]
  },
  {
   "cell_type": "code",
   "execution_count": 37,
   "id": "6435908c",
   "metadata": {},
   "outputs": [],
   "source": [
    "p = 1/4 * 0.8 + 1/4 * 0.7 + 2/4 * 0.9\n",
    "\n",
    "result1 = 1/4 * 0.8 / p\n",
    "result2 = 1/4 * 0.7 / p\n",
    "result3 = 2/4 * 0.9 / p"
   ]
  },
  {
   "cell_type": "code",
   "execution_count": 38,
   "id": "de336a90",
   "metadata": {},
   "outputs": [
    {
     "name": "stdout",
     "output_type": "stream",
     "text": [
      "первым спортсменом: 0.24242424242424246\n",
      "вторым спортсменом: 0.21212121212121213\n",
      "третьим спортсменом: 0.5454545454545455\n"
     ]
    }
   ],
   "source": [
    "print(f\"первым спортсменом: {result1}\")\n",
    "print(f\"вторым спортсменом: {result2}\")\n",
    "print(f\"третьим спортсменом: {result3}\")"
   ]
  },
  {
   "cell_type": "markdown",
   "id": "95689c72",
   "metadata": {},
   "source": [
    "### Задача 5\n",
    "\n",
    "Устройство состоит из трех деталей.  \n",
    "Для первой детали вероятность выйти из строя в первый месяц равна 0.1, для второй - 0.2, для третьей - 0.25.  \n",
    "Какова вероятность того, что в первый месяц выйдут из строя:  \n",
    "а) все детали  \n",
    "б) только две детали  \n",
    "в) хотя бы одна деталь  \n",
    "г) от одной до двух деталей?  "
   ]
  },
  {
   "cell_type": "code",
   "execution_count": 41,
   "id": "f9e8292b",
   "metadata": {},
   "outputs": [],
   "source": [
    "p1 = 0.1\n",
    "p2 = 0.2\n",
    "p3 = 0.25\n",
    "\n",
    "q1 = 1 - p1\n",
    "q2 = 1 - p2\n",
    "q3 = 1 - p3\n",
    "\n",
    "\n",
    "result1 = p1 * p2 * p3\n",
    "result2 = p1 * p2 * q3  +  p1 * q2 * p3  +  q1 * p2 * p3\n",
    "result3 = 1 - q1 * q2 * q3\n",
    "result4 = p1 * q2 * q3  +  q1 * p2 * q3  +  q1 * q2 * p3 + result2"
   ]
  },
  {
   "cell_type": "code",
   "execution_count": 42,
   "id": "509d90fd",
   "metadata": {},
   "outputs": [
    {
     "name": "stdout",
     "output_type": "stream",
     "text": [
      "все детали: 0.005000000000000001\n",
      "только две детали: 0.08000000000000002\n",
      "хотя бы одна деталь: 0.45999999999999996\n",
      "от одной до двух деталей: 0.455\n"
     ]
    }
   ],
   "source": [
    "print(f\"все детали: {result1}\")\n",
    "print(f\"только две детали: {result2}\")\n",
    "print(f\"хотя бы одна деталь: {result3}\")\n",
    "print(f\"от одной до двух деталей: {result4}\")"
   ]
  }
 ],
 "metadata": {
  "kernelspec": {
   "display_name": "Python 3 (ipykernel)",
   "language": "python",
   "name": "python3"
  },
  "language_info": {
   "codemirror_mode": {
    "name": "ipython",
    "version": 3
   },
   "file_extension": ".py",
   "mimetype": "text/x-python",
   "name": "python",
   "nbconvert_exporter": "python",
   "pygments_lexer": "ipython3",
   "version": "3.9.13"
  }
 },
 "nbformat": 4,
 "nbformat_minor": 5
}
